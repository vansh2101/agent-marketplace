{
  "nbformat": 4,
  "nbformat_minor": 0,
  "metadata": {
    "colab": {
      "provenance": []
    },
    "kernelspec": {
      "name": "python3",
      "display_name": "Python 3"
    },
    "language_info": {
      "name": "python"
    }
  },
  "cells": [
    {
      "cell_type": "code",
      "execution_count": null,
      "metadata": {
        "colab": {
          "base_uri": "https://localhost:8080/"
        },
        "id": "FehPt3ZJG51b",
        "outputId": "ef63e813-2e2f-432f-c30f-4727785e66c8"
      },
      "outputs": [
        {
          "output_type": "stream",
          "name": "stdout",
          "text": [
            "Collecting en-core-web-trf==3.7.3\n",
            "  Downloading https://github.com/explosion/spacy-models/releases/download/en_core_web_trf-3.7.3/en_core_web_trf-3.7.3-py3-none-any.whl (457.4 MB)\n",
            "\u001b[2K     \u001b[90m━━━━━━━━━━━━━━━━━━━━━━━━━━━━━━━━━━━━━━━━\u001b[0m \u001b[32m457.4/457.4 MB\u001b[0m \u001b[31m2.8 MB/s\u001b[0m eta \u001b[36m0:00:00\u001b[0m\n",
            "\u001b[?25hRequirement already satisfied: spacy<3.8.0,>=3.7.2 in /usr/local/lib/python3.10/dist-packages (from en-core-web-trf==3.7.3) (3.7.5)\n",
            "Collecting spacy-curated-transformers<0.3.0,>=0.2.0 (from en-core-web-trf==3.7.3)\n",
            "  Downloading spacy_curated_transformers-0.2.2-py2.py3-none-any.whl (236 kB)\n",
            "\u001b[2K     \u001b[90m━━━━━━━━━━━━━━━━━━━━━━━━━━━━━━━━━━━━━━━━\u001b[0m \u001b[32m236.3/236.3 kB\u001b[0m \u001b[31m4.3 MB/s\u001b[0m eta \u001b[36m0:00:00\u001b[0m\n",
            "\u001b[?25hRequirement already satisfied: spacy-legacy<3.1.0,>=3.0.11 in /usr/local/lib/python3.10/dist-packages (from spacy<3.8.0,>=3.7.2->en-core-web-trf==3.7.3) (3.0.12)\n",
            "Requirement already satisfied: spacy-loggers<2.0.0,>=1.0.0 in /usr/local/lib/python3.10/dist-packages (from spacy<3.8.0,>=3.7.2->en-core-web-trf==3.7.3) (1.0.5)\n",
            "Requirement already satisfied: murmurhash<1.1.0,>=0.28.0 in /usr/local/lib/python3.10/dist-packages (from spacy<3.8.0,>=3.7.2->en-core-web-trf==3.7.3) (1.0.10)\n",
            "Requirement already satisfied: cymem<2.1.0,>=2.0.2 in /usr/local/lib/python3.10/dist-packages (from spacy<3.8.0,>=3.7.2->en-core-web-trf==3.7.3) (2.0.8)\n",
            "Requirement already satisfied: preshed<3.1.0,>=3.0.2 in /usr/local/lib/python3.10/dist-packages (from spacy<3.8.0,>=3.7.2->en-core-web-trf==3.7.3) (3.0.9)\n",
            "Requirement already satisfied: thinc<8.3.0,>=8.2.2 in /usr/local/lib/python3.10/dist-packages (from spacy<3.8.0,>=3.7.2->en-core-web-trf==3.7.3) (8.2.5)\n",
            "Requirement already satisfied: wasabi<1.2.0,>=0.9.1 in /usr/local/lib/python3.10/dist-packages (from spacy<3.8.0,>=3.7.2->en-core-web-trf==3.7.3) (1.1.3)\n",
            "Requirement already satisfied: srsly<3.0.0,>=2.4.3 in /usr/local/lib/python3.10/dist-packages (from spacy<3.8.0,>=3.7.2->en-core-web-trf==3.7.3) (2.4.8)\n",
            "Requirement already satisfied: catalogue<2.1.0,>=2.0.6 in /usr/local/lib/python3.10/dist-packages (from spacy<3.8.0,>=3.7.2->en-core-web-trf==3.7.3) (2.0.10)\n",
            "Requirement already satisfied: weasel<0.5.0,>=0.1.0 in /usr/local/lib/python3.10/dist-packages (from spacy<3.8.0,>=3.7.2->en-core-web-trf==3.7.3) (0.4.1)\n",
            "Requirement already satisfied: typer<1.0.0,>=0.3.0 in /usr/local/lib/python3.10/dist-packages (from spacy<3.8.0,>=3.7.2->en-core-web-trf==3.7.3) (0.12.3)\n",
            "Requirement already satisfied: tqdm<5.0.0,>=4.38.0 in /usr/local/lib/python3.10/dist-packages (from spacy<3.8.0,>=3.7.2->en-core-web-trf==3.7.3) (4.66.4)\n",
            "Requirement already satisfied: requests<3.0.0,>=2.13.0 in /usr/local/lib/python3.10/dist-packages (from spacy<3.8.0,>=3.7.2->en-core-web-trf==3.7.3) (2.31.0)\n",
            "Requirement already satisfied: pydantic!=1.8,!=1.8.1,<3.0.0,>=1.7.4 in /usr/local/lib/python3.10/dist-packages (from spacy<3.8.0,>=3.7.2->en-core-web-trf==3.7.3) (2.8.2)\n",
            "Requirement already satisfied: jinja2 in /usr/local/lib/python3.10/dist-packages (from spacy<3.8.0,>=3.7.2->en-core-web-trf==3.7.3) (3.1.4)\n",
            "Requirement already satisfied: setuptools in /usr/local/lib/python3.10/dist-packages (from spacy<3.8.0,>=3.7.2->en-core-web-trf==3.7.3) (67.7.2)\n",
            "Requirement already satisfied: packaging>=20.0 in /usr/local/lib/python3.10/dist-packages (from spacy<3.8.0,>=3.7.2->en-core-web-trf==3.7.3) (24.1)\n",
            "Requirement already satisfied: langcodes<4.0.0,>=3.2.0 in /usr/local/lib/python3.10/dist-packages (from spacy<3.8.0,>=3.7.2->en-core-web-trf==3.7.3) (3.4.0)\n",
            "Requirement already satisfied: numpy>=1.19.0 in /usr/local/lib/python3.10/dist-packages (from spacy<3.8.0,>=3.7.2->en-core-web-trf==3.7.3) (1.25.2)\n",
            "Collecting curated-transformers<0.2.0,>=0.1.0 (from spacy-curated-transformers<0.3.0,>=0.2.0->en-core-web-trf==3.7.3)\n",
            "  Downloading curated_transformers-0.1.1-py2.py3-none-any.whl (25 kB)\n",
            "Collecting curated-tokenizers<0.1.0,>=0.0.9 (from spacy-curated-transformers<0.3.0,>=0.2.0->en-core-web-trf==3.7.3)\n",
            "  Downloading curated_tokenizers-0.0.9-cp310-cp310-manylinux_2_17_x86_64.manylinux2014_x86_64.whl (731 kB)\n",
            "\u001b[2K     \u001b[90m━━━━━━━━━━━━━━━━━━━━━━━━━━━━━━━━━━━━━━━━\u001b[0m \u001b[32m731.6/731.6 kB\u001b[0m \u001b[31m28.6 MB/s\u001b[0m eta \u001b[36m0:00:00\u001b[0m\n",
            "\u001b[?25hRequirement already satisfied: torch>=1.12.0 in /usr/local/lib/python3.10/dist-packages (from spacy-curated-transformers<0.3.0,>=0.2.0->en-core-web-trf==3.7.3) (2.3.1+cu121)\n",
            "Requirement already satisfied: regex>=2022 in /usr/local/lib/python3.10/dist-packages (from curated-tokenizers<0.1.0,>=0.0.9->spacy-curated-transformers<0.3.0,>=0.2.0->en-core-web-trf==3.7.3) (2024.5.15)\n",
            "Requirement already satisfied: language-data>=1.2 in /usr/local/lib/python3.10/dist-packages (from langcodes<4.0.0,>=3.2.0->spacy<3.8.0,>=3.7.2->en-core-web-trf==3.7.3) (1.2.0)\n",
            "Requirement already satisfied: annotated-types>=0.4.0 in /usr/local/lib/python3.10/dist-packages (from pydantic!=1.8,!=1.8.1,<3.0.0,>=1.7.4->spacy<3.8.0,>=3.7.2->en-core-web-trf==3.7.3) (0.7.0)\n",
            "Requirement already satisfied: pydantic-core==2.20.1 in /usr/local/lib/python3.10/dist-packages (from pydantic!=1.8,!=1.8.1,<3.0.0,>=1.7.4->spacy<3.8.0,>=3.7.2->en-core-web-trf==3.7.3) (2.20.1)\n",
            "Requirement already satisfied: typing-extensions>=4.6.1 in /usr/local/lib/python3.10/dist-packages (from pydantic!=1.8,!=1.8.1,<3.0.0,>=1.7.4->spacy<3.8.0,>=3.7.2->en-core-web-trf==3.7.3) (4.12.2)\n",
            "Requirement already satisfied: charset-normalizer<4,>=2 in /usr/local/lib/python3.10/dist-packages (from requests<3.0.0,>=2.13.0->spacy<3.8.0,>=3.7.2->en-core-web-trf==3.7.3) (3.3.2)\n",
            "Requirement already satisfied: idna<4,>=2.5 in /usr/local/lib/python3.10/dist-packages (from requests<3.0.0,>=2.13.0->spacy<3.8.0,>=3.7.2->en-core-web-trf==3.7.3) (3.7)\n",
            "Requirement already satisfied: urllib3<3,>=1.21.1 in /usr/local/lib/python3.10/dist-packages (from requests<3.0.0,>=2.13.0->spacy<3.8.0,>=3.7.2->en-core-web-trf==3.7.3) (2.0.7)\n",
            "Requirement already satisfied: certifi>=2017.4.17 in /usr/local/lib/python3.10/dist-packages (from requests<3.0.0,>=2.13.0->spacy<3.8.0,>=3.7.2->en-core-web-trf==3.7.3) (2024.7.4)\n",
            "Requirement already satisfied: blis<0.8.0,>=0.7.8 in /usr/local/lib/python3.10/dist-packages (from thinc<8.3.0,>=8.2.2->spacy<3.8.0,>=3.7.2->en-core-web-trf==3.7.3) (0.7.11)\n",
            "Requirement already satisfied: confection<1.0.0,>=0.0.1 in /usr/local/lib/python3.10/dist-packages (from thinc<8.3.0,>=8.2.2->spacy<3.8.0,>=3.7.2->en-core-web-trf==3.7.3) (0.1.5)\n",
            "Requirement already satisfied: filelock in /usr/local/lib/python3.10/dist-packages (from torch>=1.12.0->spacy-curated-transformers<0.3.0,>=0.2.0->en-core-web-trf==3.7.3) (3.15.4)\n",
            "Requirement already satisfied: sympy in /usr/local/lib/python3.10/dist-packages (from torch>=1.12.0->spacy-curated-transformers<0.3.0,>=0.2.0->en-core-web-trf==3.7.3) (1.13.0)\n",
            "Requirement already satisfied: networkx in /usr/local/lib/python3.10/dist-packages (from torch>=1.12.0->spacy-curated-transformers<0.3.0,>=0.2.0->en-core-web-trf==3.7.3) (3.3)\n",
            "Requirement already satisfied: fsspec in /usr/local/lib/python3.10/dist-packages (from torch>=1.12.0->spacy-curated-transformers<0.3.0,>=0.2.0->en-core-web-trf==3.7.3) (2023.6.0)\n",
            "Collecting nvidia-cuda-nvrtc-cu12==12.1.105 (from torch>=1.12.0->spacy-curated-transformers<0.3.0,>=0.2.0->en-core-web-trf==3.7.3)\n",
            "  Using cached nvidia_cuda_nvrtc_cu12-12.1.105-py3-none-manylinux1_x86_64.whl (23.7 MB)\n",
            "Collecting nvidia-cuda-runtime-cu12==12.1.105 (from torch>=1.12.0->spacy-curated-transformers<0.3.0,>=0.2.0->en-core-web-trf==3.7.3)\n",
            "  Using cached nvidia_cuda_runtime_cu12-12.1.105-py3-none-manylinux1_x86_64.whl (823 kB)\n",
            "Collecting nvidia-cuda-cupti-cu12==12.1.105 (from torch>=1.12.0->spacy-curated-transformers<0.3.0,>=0.2.0->en-core-web-trf==3.7.3)\n",
            "  Using cached nvidia_cuda_cupti_cu12-12.1.105-py3-none-manylinux1_x86_64.whl (14.1 MB)\n",
            "Collecting nvidia-cudnn-cu12==8.9.2.26 (from torch>=1.12.0->spacy-curated-transformers<0.3.0,>=0.2.0->en-core-web-trf==3.7.3)\n",
            "  Using cached nvidia_cudnn_cu12-8.9.2.26-py3-none-manylinux1_x86_64.whl (731.7 MB)\n",
            "Collecting nvidia-cublas-cu12==12.1.3.1 (from torch>=1.12.0->spacy-curated-transformers<0.3.0,>=0.2.0->en-core-web-trf==3.7.3)\n",
            "  Using cached nvidia_cublas_cu12-12.1.3.1-py3-none-manylinux1_x86_64.whl (410.6 MB)\n",
            "Collecting nvidia-cufft-cu12==11.0.2.54 (from torch>=1.12.0->spacy-curated-transformers<0.3.0,>=0.2.0->en-core-web-trf==3.7.3)\n",
            "  Using cached nvidia_cufft_cu12-11.0.2.54-py3-none-manylinux1_x86_64.whl (121.6 MB)\n",
            "Collecting nvidia-curand-cu12==10.3.2.106 (from torch>=1.12.0->spacy-curated-transformers<0.3.0,>=0.2.0->en-core-web-trf==3.7.3)\n",
            "  Using cached nvidia_curand_cu12-10.3.2.106-py3-none-manylinux1_x86_64.whl (56.5 MB)\n",
            "Collecting nvidia-cusolver-cu12==11.4.5.107 (from torch>=1.12.0->spacy-curated-transformers<0.3.0,>=0.2.0->en-core-web-trf==3.7.3)\n",
            "  Using cached nvidia_cusolver_cu12-11.4.5.107-py3-none-manylinux1_x86_64.whl (124.2 MB)\n",
            "Collecting nvidia-cusparse-cu12==12.1.0.106 (from torch>=1.12.0->spacy-curated-transformers<0.3.0,>=0.2.0->en-core-web-trf==3.7.3)\n",
            "  Using cached nvidia_cusparse_cu12-12.1.0.106-py3-none-manylinux1_x86_64.whl (196.0 MB)\n",
            "Collecting nvidia-nccl-cu12==2.20.5 (from torch>=1.12.0->spacy-curated-transformers<0.3.0,>=0.2.0->en-core-web-trf==3.7.3)\n",
            "  Using cached nvidia_nccl_cu12-2.20.5-py3-none-manylinux2014_x86_64.whl (176.2 MB)\n",
            "Collecting nvidia-nvtx-cu12==12.1.105 (from torch>=1.12.0->spacy-curated-transformers<0.3.0,>=0.2.0->en-core-web-trf==3.7.3)\n",
            "  Using cached nvidia_nvtx_cu12-12.1.105-py3-none-manylinux1_x86_64.whl (99 kB)\n",
            "Requirement already satisfied: triton==2.3.1 in /usr/local/lib/python3.10/dist-packages (from torch>=1.12.0->spacy-curated-transformers<0.3.0,>=0.2.0->en-core-web-trf==3.7.3) (2.3.1)\n",
            "Collecting nvidia-nvjitlink-cu12 (from nvidia-cusolver-cu12==11.4.5.107->torch>=1.12.0->spacy-curated-transformers<0.3.0,>=0.2.0->en-core-web-trf==3.7.3)\n",
            "  Downloading nvidia_nvjitlink_cu12-12.5.82-py3-none-manylinux2014_x86_64.whl (21.3 MB)\n",
            "\u001b[2K     \u001b[90m━━━━━━━━━━━━━━━━━━━━━━━━━━━━━━━━━━━━━━━━\u001b[0m \u001b[32m21.3/21.3 MB\u001b[0m \u001b[31m31.1 MB/s\u001b[0m eta \u001b[36m0:00:00\u001b[0m\n",
            "\u001b[?25hRequirement already satisfied: click>=8.0.0 in /usr/local/lib/python3.10/dist-packages (from typer<1.0.0,>=0.3.0->spacy<3.8.0,>=3.7.2->en-core-web-trf==3.7.3) (8.1.7)\n",
            "Requirement already satisfied: shellingham>=1.3.0 in /usr/local/lib/python3.10/dist-packages (from typer<1.0.0,>=0.3.0->spacy<3.8.0,>=3.7.2->en-core-web-trf==3.7.3) (1.5.4)\n",
            "Requirement already satisfied: rich>=10.11.0 in /usr/local/lib/python3.10/dist-packages (from typer<1.0.0,>=0.3.0->spacy<3.8.0,>=3.7.2->en-core-web-trf==3.7.3) (13.7.1)\n",
            "Requirement already satisfied: cloudpathlib<1.0.0,>=0.7.0 in /usr/local/lib/python3.10/dist-packages (from weasel<0.5.0,>=0.1.0->spacy<3.8.0,>=3.7.2->en-core-web-trf==3.7.3) (0.18.1)\n",
            "Requirement already satisfied: smart-open<8.0.0,>=5.2.1 in /usr/local/lib/python3.10/dist-packages (from weasel<0.5.0,>=0.1.0->spacy<3.8.0,>=3.7.2->en-core-web-trf==3.7.3) (7.0.4)\n",
            "Requirement already satisfied: MarkupSafe>=2.0 in /usr/local/lib/python3.10/dist-packages (from jinja2->spacy<3.8.0,>=3.7.2->en-core-web-trf==3.7.3) (2.1.5)\n",
            "Requirement already satisfied: marisa-trie>=0.7.7 in /usr/local/lib/python3.10/dist-packages (from language-data>=1.2->langcodes<4.0.0,>=3.2.0->spacy<3.8.0,>=3.7.2->en-core-web-trf==3.7.3) (1.2.0)\n",
            "Requirement already satisfied: markdown-it-py>=2.2.0 in /usr/local/lib/python3.10/dist-packages (from rich>=10.11.0->typer<1.0.0,>=0.3.0->spacy<3.8.0,>=3.7.2->en-core-web-trf==3.7.3) (3.0.0)\n",
            "Requirement already satisfied: pygments<3.0.0,>=2.13.0 in /usr/local/lib/python3.10/dist-packages (from rich>=10.11.0->typer<1.0.0,>=0.3.0->spacy<3.8.0,>=3.7.2->en-core-web-trf==3.7.3) (2.16.1)\n",
            "Requirement already satisfied: wrapt in /usr/local/lib/python3.10/dist-packages (from smart-open<8.0.0,>=5.2.1->weasel<0.5.0,>=0.1.0->spacy<3.8.0,>=3.7.2->en-core-web-trf==3.7.3) (1.14.1)\n",
            "Requirement already satisfied: mpmath<1.4,>=1.1.0 in /usr/local/lib/python3.10/dist-packages (from sympy->torch>=1.12.0->spacy-curated-transformers<0.3.0,>=0.2.0->en-core-web-trf==3.7.3) (1.3.0)\n",
            "Requirement already satisfied: mdurl~=0.1 in /usr/local/lib/python3.10/dist-packages (from markdown-it-py>=2.2.0->rich>=10.11.0->typer<1.0.0,>=0.3.0->spacy<3.8.0,>=3.7.2->en-core-web-trf==3.7.3) (0.1.2)\n",
            "Installing collected packages: nvidia-nvtx-cu12, nvidia-nvjitlink-cu12, nvidia-nccl-cu12, nvidia-curand-cu12, nvidia-cufft-cu12, nvidia-cuda-runtime-cu12, nvidia-cuda-nvrtc-cu12, nvidia-cuda-cupti-cu12, nvidia-cublas-cu12, curated-tokenizers, nvidia-cusparse-cu12, nvidia-cudnn-cu12, nvidia-cusolver-cu12, curated-transformers, spacy-curated-transformers, en-core-web-trf\n",
            "Successfully installed curated-tokenizers-0.0.9 curated-transformers-0.1.1 en-core-web-trf-3.7.3 nvidia-cublas-cu12-12.1.3.1 nvidia-cuda-cupti-cu12-12.1.105 nvidia-cuda-nvrtc-cu12-12.1.105 nvidia-cuda-runtime-cu12-12.1.105 nvidia-cudnn-cu12-8.9.2.26 nvidia-cufft-cu12-11.0.2.54 nvidia-curand-cu12-10.3.2.106 nvidia-cusolver-cu12-11.4.5.107 nvidia-cusparse-cu12-12.1.0.106 nvidia-nccl-cu12-2.20.5 nvidia-nvjitlink-cu12-12.5.82 nvidia-nvtx-cu12-12.1.105 spacy-curated-transformers-0.2.2\n",
            "\u001b[38;5;2m✔ Download and installation successful\u001b[0m\n",
            "You can now load the package via spacy.load('en_core_web_trf')\n",
            "\u001b[38;5;3m⚠ Restart to reload dependencies\u001b[0m\n",
            "If you are in a Jupyter or Colab notebook, you may need to restart Python in\n",
            "order to load all the package's dependencies. You can do this by selecting the\n",
            "'Restart kernel' or 'Restart runtime' option.\n"
          ]
        }
      ],
      "source": [
        "!python -m spacy download en_core_web_trf"
      ]
    },
    {
      "cell_type": "code",
      "source": [
        "import spacy\n",
        "from sklearn.metrics.pairwise import manhattan_distances\n",
        "import requests\n",
        "from requests.structures import CaseInsensitiveDict\n",
        "import time"
      ],
      "metadata": {
        "id": "DJEidbiIH46e"
      },
      "execution_count": null,
      "outputs": []
    },
    {
      "cell_type": "code",
      "source": [
        "from google.colab import userdata\n",
        "\n",
        "api_key = userdata.get('GEOAPIFY_KEY')"
      ],
      "metadata": {
        "id": "JobPYuA7sk54"
      },
      "execution_count": null,
      "outputs": []
    },
    {
      "cell_type": "code",
      "source": [
        "ner = spacy.load(\"en_core_web_trf\")"
      ],
      "metadata": {
        "id": "YbbEU4TOHgN_"
      },
      "execution_count": null,
      "outputs": []
    },
    {
      "cell_type": "code",
      "source": [
        "coordinates = {\n",
        "    'Delhi': [77.1025, 28.7041],\n",
        "    'Gurgaon': [28.459967, 77.394535],\n",
        "    'Bangalore': [12.9716, 77.5946],\n",
        "    'Assam': [26.2006, 92.9378],\n",
        "    'New York': [40.7128, -74.0060],\n",
        "    'India': [20.5937, 78.9629],\n",
        "}"
      ],
      "metadata": {
        "id": "3i2IhrmhJ7vS"
      },
      "execution_count": null,
      "outputs": []
    },
    {
      "cell_type": "code",
      "source": [
        "path = '/content/drive/MyDrive/ISRO Hackathon/hypothetical_flood_Data.txt'\n",
        "\n",
        "with open(path) as f:\n",
        "  data = f.readlines()\n",
        "\n",
        "data = [x.strip() for x in data if x.strip() != \"\"]"
      ],
      "metadata": {
        "id": "UOuubMQzlTvQ"
      },
      "execution_count": null,
      "outputs": []
    },
    {
      "cell_type": "code",
      "source": [
        "for d in data:\n",
        "  for i in d.split(\". \"):\n",
        "    print(i)\n",
        "  print()"
      ],
      "metadata": {
        "colab": {
          "base_uri": "https://localhost:8080/"
        },
        "id": "GxEK8jWeo7tk",
        "outputId": "030e5b70-a15f-408d-b408-26e90a861772"
      },
      "execution_count": null,
      "outputs": [
        {
          "output_type": "stream",
          "name": "stdout",
          "text": [
            "In the early monsoon season of 2023, Delhi experienced one of the most severe floods in recent history\n",
            "Heavy rainfall, starting in late June and continuing for almost a week, led to the overflowing of the Yamuna River, which breached its banks and inundated vast areas of the city\n",
            "The relentless downpour resulted in accumulated water levels that quickly overwhelmed the drainage systems, causing widespread flooding in numerous parts of the city.\n",
            "\n",
            "Residential neighborhoods such as Mayur Vihar, Okhla, and parts of East Delhi were particularly hard-hit, with homes and apartment complexes submerged under several feet of water\n",
            "The historic areas around Chandni Chowk and Connaught Place also saw significant water accumulation, affecting businesses and leading to substantial economic losses.\n",
            "\n",
            "Commercial districts like Nehru Place and Connaught Place, which house numerous offices and retail establishments, faced severe disruptions as floodwaters entered buildings, damaging property and halting operations\n",
            "The city's transportation systems were crippled, with major roads such as the Ring Road and Outer Ring Road becoming impassable\n",
            "Many metro stations were temporarily closed, and bus services were suspended in several areas, leaving commuters stranded.\n",
            "\n",
            "Power outages were widespread, with electrical substations in low-lying areas being flooded and causing blackouts\n",
            "This exacerbated the situation as communication networks also faced disruptions, making it difficult for residents to reach out for help\n",
            "Emergency services were stretched thin, responding to numerous calls for assistance as people were trapped in their homes or stranded on rooftops awaiting rescue.\n",
            "\n",
            "Gurgaon, situated just southwest of Delhi, also faced the brunt of the torrential rains\n",
            "Although the city was not as severely affected as Delhi, several areas in Gurgaon experienced significant waterlogging, creating a challenging situation for residents and businesses alike\n",
            "The urban infrastructure, characterized by numerous high-rise buildings and sprawling commercial complexes, struggled to cope with the sudden deluge.\n",
            "\n",
            "In sectors such as Sushant Lok, DLF Phase 1-5, and Cyber City, streets turned into rivers as drainage systems were overwhelmed by the incessant rainfall\n",
            "The water levels in these areas rose rapidly, causing basements of many buildings to flood\n",
            "Residential complexes, particularly in low-lying areas, saw water entering parking lots and ground-floor apartments, damaging vehicles and property\n",
            "The situation was further exacerbated by the construction sites across the city, which contributed to blocked drains and increased water runoff.\n",
            "\n",
            "Many offices in the commercial hubs of Cyber City and Udyog Vihar had to shut down temporarily due to the waterlogging\n",
            "Employees found it difficult to reach their workplaces, with major roads such as Golf Course Road, MG Road, and Sohna Road being submerged under several feet of water\n",
            "Traffic came to a standstill, and several underpasses were completely flooded, making them impassable\n",
            "Public transport services, including buses and auto-rickshaws, were severely affected, and commuters were left stranded for hours.\n",
            "\n",
            "The heavy rains also impacted the connectivity between Gurgaon and Delhi\n",
            "The Delhi-Gurgaon Expressway, a vital artery for daily commuters, experienced severe traffic jams as vehicles moved at a snail's pace through the waterlogged sections\n",
            "This not only affected the daily commute of thousands but also disrupted the supply chains, as goods could not be transported efficiently.\n",
            "\n",
            "Residents reported severe difficulties in commuting due to the flooded roads, and many had to rely on makeshift arrangements or stay home until the water receded\n",
            "The local administration faced criticism for its inadequate response and lack of preparedness for such a deluge\n",
            "Emergency services were stretched thin, attending to calls for assistance from across the city\n",
            "Temporary shelters were set up for those whose homes were inundated, and efforts were made to distribute food and water to the affected populations.\n",
            "\n",
            "In addition to the inundation in central Delhi, the low-lying areas near the Yamuna River were particularly hard-hit\n",
            "The relentless downpour caused the Yamuna to swell beyond its banks, flooding nearby neighborhoods such as Yamuna Vihar, Usmanpur, and Geeta Colony\n",
            "These communities, situated in the floodplains, bore the brunt of the rising waters, which inundated homes, streets, and public spaces.\n",
            "\n",
            "Residents in these areas faced a dire situation as floodwaters rapidly entered their homes, damaging property and belongings\n",
            "Many households lost furniture, appliances, and personal items to the water, which rose to waist-deep levels in some places\n",
            "The sudden inundation left families scrambling to salvage whatever they could, often wading through murky waters to reach higher ground\n",
            "The force of the floodwaters also caused structural damage to buildings, with walls and foundations weakened by the relentless pressure.\n",
            "\n",
            "The severity of the flooding forced communities to evacuate\n",
            "Families had to leave their homes behind, often with little more than the clothes on their backs\n",
            "Evacuation efforts were hastily organized, with local authorities and volunteers assisting people to safer areas\n",
            "Boats and makeshift rafts were used to ferry residents across submerged streets, while others had to navigate through the floodwaters on foot.\n",
            "\n",
            "Relief efforts were quickly mobilized to address the urgent needs of the displaced population\n",
            "The government, in coordination with non-governmental organizations (NGOs) and community groups, set up temporary shelters in schools, community centers, and other public buildings that were on higher ground\n",
            "These shelters provided refuge to hundreds of families, offering a safe place to stay until the waters receded.\n",
            "\n",
            "At these temporary shelters, essential supplies were distributed to the affected population\n",
            "Relief workers handed out food packets, clean drinking water, and medical supplies\n",
            "Special attention was given to the needs of vulnerable groups, including children, the elderly, and those with medical conditions\n",
            "Health camps were established to provide basic medical care and to prevent the outbreak of waterborne diseases, which are common in the aftermath of floods.\n",
            "\n",
            "In addition to immediate relief, efforts were made to ensure the well-being of the evacuees during their stay in shelters\n",
            "Volunteers organized activities for children to keep them engaged and provide a semblance of normalcy amidst the chaos\n",
            "Counseling services were also offered to help people cope with the trauma of losing their homes and belongings.\n",
            "\n",
            "The response to the flooding in the low-lying areas near the Yamuna River highlighted the importance of community resilience and preparedness\n",
            "Local residents, despite facing their own challenges, came together to support one another, sharing resources and offering assistance wherever possible\n",
            "The coordinated efforts of government agencies, NGOs, and volunteers played a crucial role in mitigating the impact of the disaster and providing much-needed relief to those affected.\n",
            "\n",
            "Mumbai, located to the southeast of Delhi, was not spared from the impact of the floods either\n",
            "The city, known for its rapidly developing infrastructure and residential projects, saw several sectors submerged under water\n",
            "The heavy rainfall overwhelmed the city's drainage systems, leading to extensive waterlogging in various parts of the city\n",
            "Residential areas such as Sector 15, Sector 18, and Sector 62 were among the worst affected, with floodwaters entering homes, apartment complexes, and commercial buildings.\n",
            "\n",
            "The city's key roads and highways, including the Mumbai-Greater Mumbai Expressway and the DND Flyway, were rendered impassable, causing significant disruptions in daily commutes and logistics\n",
            "These major thoroughfares are vital for connecting Mumbai to Delhi and other neighboring regions, and their flooding had a cascading effect on the entire region's transportation network\n",
            "Vehicles were stranded on submerged roads, leading to massive traffic jams and delays\n",
            "Public transportation services, including buses and auto-rickshaws, were severely disrupted, leaving commuters with limited options for travel.\n",
            "\n",
            "In commercial hubs like Sector 18, where numerous offices, shopping malls, and entertainment centers are located, businesses faced significant disruptions\n",
            "Shops and offices remained closed for several days as floodwaters inundated basements and ground floors\n",
            "The economic impact of the flood was substantial, with businesses reporting losses due to damaged inventory and interrupted operations\n",
            "Employees struggled to reach their workplaces, and many companies had to switch to remote work arrangements or halt operations temporarily.\n",
            "\n",
            "The residential sectors in Mumbai also faced severe challenges\n",
            "In areas like Sector 62, a hub for IT and software companies, the flooding disrupted the daily routines of thousands of professionals\n",
            "Many residential complexes in these sectors had their basements and ground floors submerged, damaging vehicles and electrical equipment\n",
            "Residents were forced to move to higher floors or seek temporary accommodation with friends and family\n",
            "The floodwaters also contaminated water supplies, raising concerns about health and hygiene.\n",
            "\n",
            "The local administration in Mumbai issued advisories for residents to stay indoors and avoid unnecessary travel\n",
            "These advisories were disseminated through various channels, including social media, local news outlets, and public announcements\n",
            "The administration emphasized the importance of safety and urged residents to cooperate with emergency services\n",
            "Efforts were made to clear the waterlogged streets and restore normalcy as quickly as possible.\n",
            "\n",
            "Emergency response teams were deployed to assist those affected by the floods\n",
            "Rescue operations were conducted to evacuate people from the worst-hit areas, and temporary shelters were set up to accommodate displaced residents\n",
            "Relief materials, including food, water, and medical supplies, were distributed to those in need\n",
            "The local government also worked closely with NGOs and community groups to coordinate relief efforts and ensure that help reached all affected areas.\n",
            "\n",
            "The flooding in Mumbai underscored the need for better urban planning and infrastructure development to manage heavy rainfall and prevent such incidents in the future\n",
            "Long-term solutions, such as upgrading drainage systems, constructing flood barriers, and implementing effective water management strategies, were identified as essential to mitigate the impact of future floods\n",
            "The disaster also highlighted the importance of community resilience and preparedness, as local residents and organizations played a crucial role in supporting relief efforts and helping the city recover.\n",
            "\n",
            "The response to the flooding in Delhi involved multiple agencies working in close coordination to mitigate the impact of the disaster and assist the affected population\n",
            "The National Disaster Response Force (NDRF) played a pivotal role in the rescue operations, deploying several teams across the city to address the emergency situation.\n",
            "\n",
            "NDRF Deployment and Operations\n",
            "\n",
            "The NDRF, equipped with specialized training and equipment for handling natural disasters, was quick to mobilize\n",
            "Several teams were deployed to the most affected areas, including low-lying neighborhoods near the Yamuna River and parts of central Delhi\n",
            "These teams were tasked with conducting rescue operations, providing medical assistance, and coordinating relief efforts with local authorities.\n",
            "\n",
            "Rescue Operations\n",
            "\n",
            "Boats and Watercraft:\n",
            "\n",
            "To navigate the heavily flooded streets, the NDRF utilized boats and other watercraft\n",
            "These vessels were crucial in reaching stranded individuals, particularly in areas where the water levels were too high for regular vehicles to pass\n",
            "The boats were used to ferry people from their inundated homes to safer locations, often making multiple trips to ensure everyone was evacuated\n",
            "This included the elderly, children, and individuals with disabilities who required special attention during the rescue efforts.\n",
            "\n",
            "Helicopter Missions:\n",
            "\n",
            "Helicopters were deployed to access areas that were completely cut off by the floodwaters\n",
            "These aerial missions were vital for rescuing people trapped on rooftops and high-rise buildings\n",
            "The helicopters also played a significant role in airlifting individuals who were in urgent need of medical care and could not be reached by ground teams\n",
            "Additionally, helicopters were used to drop off relief materials, such as food, water, and medical supplies, to isolated communities.\n",
            "\n",
            "Coordination with Local Authorities and NGOs\n",
            "\n",
            "The NDRF's efforts were complemented by the coordinated actions of local authorities, including the Delhi government, municipal corporations, and police forces\n",
            "These agencies worked together to identify the most affected areas and prioritize rescue operations\n",
            "The police and municipal workers assisted in crowd control, traffic management, and providing logistical support to the NDRF teams.\n",
            "\n",
            "Non-governmental organizations (NGOs) and community groups also played a critical role in the relief efforts\n",
            "They helped in setting up temporary shelters, distributing essential supplies, and providing support to the displaced population\n",
            "The collaboration between government agencies and NGOs ensured a more comprehensive and efficient response to the crisis.\n",
            "\n",
            "Temporary Shelters and Relief Distribution\n",
            "\n",
            "Temporary shelters were established in schools, community centers, and other public buildings located on higher ground\n",
            "These shelters provided a safe haven for those who had to evacuate their homes\n",
            "Relief distribution centers were set up at these shelters, where displaced individuals received food, water, clothing, and medical care\n",
            "Volunteers and relief workers ensured that the needs of the affected population were met promptly.\n",
            "\n",
            "Medical Assistance and Public Health\n",
            "\n",
            "Medical teams were deployed to provide immediate care to those injured during the floods\n",
            "Mobile medical units were set up at strategic locations to treat minor injuries and prevent the outbreak of waterborne diseases, which are common in flood situations\n",
            "Vaccination drives and distribution of hygiene kits helped in maintaining public health standards in the temporary shelters.\n",
            "\n",
            "Restoration and Recovery Efforts\n",
            "\n",
            "As the floodwaters began to recede, efforts shifted towards restoration and recovery\n",
            "The NDRF teams, along with local authorities, worked on clearing debris, restoring basic services, and helping residents return to their homes\n",
            "Damage assessment teams evaluated the structural integrity of buildings and infrastructure, while engineers and workers started repairing roads, bridges, and public utilities.\n",
            "\n",
            "Community Resilience and Future Preparedness\n",
            "\n",
            "The response to the flooding in Delhi highlighted the resilience of the community and the effectiveness of coordinated disaster management efforts\n",
            "The experience underscored the need for improved infrastructure, better urban planning, and enhanced early warning systems to prevent and manage future floods\n",
            "Training programs and drills for disaster preparedness were identified as essential measures to build a more resilient community capable of responding effectively to natural disasters.\n",
            "\n",
            "Gurgaon Response and Restoration Efforts\n",
            "\n",
            "Water Pumping and Restoration:\n",
            "\n",
            "In Gurgaon, the local government prioritized pumping out water from the worst-affected areas to restore normalcy as quickly as possible\n",
            "High-capacity water pumps were deployed to drain flooded streets, residential complexes, and commercial areas\n",
            "Teams of municipal workers and engineers worked around the clock to expedite this process, focusing initially on critical areas such as hospitals, emergency services, and major thoroughfares to ensure that essential services remained operational.\n",
            "\n",
            "Temporary Shelters:\n",
            "\n",
            "For those displaced by the floodwaters, temporary shelters were established in public buildings such as schools, community centers, and sports complexes\n",
            "These shelters provided a safe refuge for affected residents, offering not only a place to stay but also basic amenities like food, water, and sanitation facilities\n",
            "The shelters were equipped with bedding and medical supplies, and volunteers from local organizations assisted in managing these facilities and supporting the evacuees.\n",
            "\n",
            "Restoration of Essential Services:\n",
            "\n",
            "Efforts were made to restore essential services like water and electricity in a timely manner\n",
            "Utility companies worked on repairing damaged power lines and water supply systems\n",
            "Emergency repair teams were dispatched to the most critical areas first, ensuring that hospitals, police stations, and other vital services were prioritized\n",
            "Mobile generators were used in areas where power restoration took longer, and water tankers were deployed to provide clean drinking water to affected neighborhoods.\n",
            "\n",
            "Business Community Support:\n",
            "\n",
            "The business community in Gurgaon played a significant role in supporting relief operations\n",
            "Several companies, recognizing the severity of the situation, donated funds and resources to aid the affected population\n",
            "Corporate offices organized donation drives, collecting essential items such as clothes, food, and medicines\n",
            "Many companies also offered their employees the option to volunteer during work hours to assist with relief efforts\n",
            "Additionally, some businesses provided temporary shelter and financial assistance to their employees who were affected by the floods.\n",
            "\n",
            "Mumbai Post-Flood Assessment and Planning\n",
            "\n",
            "Damage Assessments:\n",
            "\n",
            "The aftermath of the flood in Mumbai saw extensive damage assessments being conducted to evaluate the impact on buildings and infrastructure\n",
            "Engineers and city planners were brought in to inspect residential and commercial properties, roads, bridges, and public utilities\n",
            "These assessments were crucial in determining the structural integrity of buildings and identifying those that required immediate repairs or were unsafe for occupancy\n",
            "The findings from these assessments were used to prioritize repair work and allocate resources effectively.\n",
            "\n",
            "Long-Term Planning for Drainage Improvement:\n",
            "\n",
            "Recognizing the need to prevent such severe flooding in the future, the local administration in Mumbai began planning for long-term measures to improve the city's drainage systems\n",
            "Experts were consulted to design enhanced drainage infrastructure capable of handling heavy rainfall\n",
            "This included widening existing drains, constructing new stormwater management systems, and implementing green infrastructure solutions like rain gardens and permeable pavements to reduce surface runoff\n",
            "The administration also looked into integrating flood forecasting and early warning systems to better prepare for future events.\n",
            "\n",
            "Community Support and Cleanup Efforts:\n",
            "\n",
            "Community support played a crucial role in the recovery process\n",
            "Local residents came together to volunteer in cleanup efforts, helping to clear debris and restore affected areas\n",
            "Neighborhood groups organized community clean-up drives, working alongside municipal workers to expedite the recovery process\n",
            "Social media platforms and local networks were used to coordinate volunteer efforts, ensuring that resources and assistance were directed where they were most needed\n",
            "Additionally, community members provided support to their neighbors, offering temporary accommodation, sharing food and supplies, and helping those who were particularly vulnerable.\n",
            "\n",
            "Resilient Community Building:\n",
            "\n",
            "The flood experience underscored the importance of building a resilient community\n",
            "Educational programs and workshops were conducted to raise awareness about disaster preparedness and response\n",
            "These programs aimed to equip residents with the knowledge and skills needed to protect themselves and their property in the event of future floods\n",
            "Local authorities also emphasized the need for individual and community-level planning, encouraging residents to develop emergency plans and participate in regular disaster response drills.\n",
            "\n",
            "Overall, the coordinated efforts of the local government, business community, and residents in Gurgaon and Mumbai showcased the strength and resilience of these communities in the face of natural disasters\n",
            "The proactive measures taken in the aftermath of the floods aimed to not only address immediate needs but also to build a more resilient infrastructure capable of withstanding future challenges.\n",
            "\n"
          ]
        }
      ]
    },
    {
      "cell_type": "code",
      "source": [
        "len(data)"
      ],
      "metadata": {
        "colab": {
          "base_uri": "https://localhost:8080/"
        },
        "id": "00P8wSbz0h5c",
        "outputId": "75b8812e-d231-48e6-99fb-282c49c2e68c"
      },
      "execution_count": null,
      "outputs": [
        {
          "output_type": "execute_result",
          "data": {
            "text/plain": [
              "61"
            ]
          },
          "metadata": {},
          "execution_count": 52
        }
      ]
    },
    {
      "cell_type": "code",
      "source": [
        "def get_coordinates(query):\n",
        "  url = f\"https://api.geoapify.com/v1/geocode/search?text={query}&lang=en&limit=3&filter=countrycode:in&format=json&apiKey={api_key}\"\n",
        "\n",
        "  headers = CaseInsensitiveDict()\n",
        "  headers[\"Accept\"] = \"application/json\"\n",
        "\n",
        "  resp = requests.get(url, headers=headers)\n",
        "\n",
        "  return resp.json()['results']"
      ],
      "metadata": {
        "id": "3TmH9ZCSqn8k"
      },
      "execution_count": null,
      "outputs": []
    },
    {
      "cell_type": "code",
      "source": [
        "get_coordinates(\"Gurgaon, Haryana\")"
      ],
      "metadata": {
        "colab": {
          "base_uri": "https://localhost:8080/"
        },
        "id": "UCdFnohWrnsW",
        "outputId": "280a9aa6-d6ff-491c-b29f-ac69f000b464"
      },
      "execution_count": null,
      "outputs": [
        {
          "output_type": "execute_result",
          "data": {
            "text/plain": [
              "[{'datasource': {'sourcename': 'openstreetmap',\n",
              "   'attribution': '© OpenStreetMap contributors',\n",
              "   'license': 'Open Database License',\n",
              "   'url': 'https://www.openstreetmap.org/copyright'},\n",
              "  'country': 'India',\n",
              "  'country_code': 'in',\n",
              "  'state': 'Haryana',\n",
              "  'city': 'Gurugram District',\n",
              "  'district': 'Gurgaon',\n",
              "  'lon': 77.00270014657752,\n",
              "  'lat': 28.42826235,\n",
              "  'state_code': 'HR',\n",
              "  'result_type': 'district',\n",
              "  'formatted': 'Gurgaon, Gurugram District, HR, India',\n",
              "  'address_line1': 'Gurgaon',\n",
              "  'address_line2': 'Gurugram District, HR, India',\n",
              "  'category': 'administrative',\n",
              "  'timezone': {'name': 'Asia/Kolkata',\n",
              "   'offset_STD': '+05:30',\n",
              "   'offset_STD_seconds': 19800,\n",
              "   'offset_DST': '+05:30',\n",
              "   'offset_DST_seconds': 19800,\n",
              "   'abbreviation_STD': 'IST',\n",
              "   'abbreviation_DST': 'IST'},\n",
              "  'plus_code': '7JWVC2H3+83',\n",
              "  'rank': {'importance': 0.65001,\n",
              "   'popularity': 3.6742540863607367,\n",
              "   'confidence': 1,\n",
              "   'confidence_city_level': 1,\n",
              "   'match_type': 'full_match'},\n",
              "  'place_id': '51ac4f3c3d2c40534059ad5bf399a26d3c40f00101f90124aa9e0000000000c00206',\n",
              "  'bbox': {'lon1': 76.8656338,\n",
              "   'lat1': 28.3153915,\n",
              "   'lon2': 77.1265409,\n",
              "   'lat2': 28.5409048}}]"
            ]
          },
          "metadata": {},
          "execution_count": 24
        }
      ]
    },
    {
      "cell_type": "code",
      "source": [
        "coord = []\n",
        "count = 0\n",
        "\n",
        "for query in data:\n",
        "  doc = ner(query)\n",
        "  for ent in doc.ents:\n",
        "    if ent.label_ == \"GPE\" or ent.label_ == \"LOC\":\n",
        "      res = get_coordinates(ent.text)\n",
        "      for r in res:\n",
        "        arr = [r['lon'], r['lat']]\n",
        "        coord.append([query, arr])\n",
        "\n",
        "  count += 1\n",
        "  print(count)\n",
        "\n",
        "  time.sleep(1)"
      ],
      "metadata": {
        "colab": {
          "base_uri": "https://localhost:8080/"
        },
        "id": "2jI6WqbGlwtb",
        "outputId": "62be17c3-dc8a-4398-a4d7-464de3f3a72b"
      },
      "execution_count": null,
      "outputs": [
        {
          "output_type": "stream",
          "name": "stdout",
          "text": [
            "1\n",
            "2\n",
            "3\n",
            "4\n",
            "5\n",
            "6\n",
            "7\n",
            "8\n",
            "9\n",
            "10\n",
            "11\n",
            "12\n",
            "13\n",
            "14\n",
            "15\n",
            "16\n",
            "17\n",
            "18\n",
            "19\n",
            "20\n",
            "21\n",
            "22\n",
            "23\n",
            "24\n",
            "25\n",
            "26\n",
            "27\n",
            "28\n",
            "29\n",
            "30\n",
            "31\n",
            "32\n",
            "33\n",
            "34\n",
            "35\n",
            "36\n",
            "37\n",
            "38\n",
            "39\n",
            "40\n",
            "41\n",
            "42\n",
            "43\n",
            "44\n",
            "45\n",
            "46\n",
            "47\n",
            "48\n",
            "49\n",
            "50\n",
            "51\n",
            "52\n",
            "53\n",
            "54\n",
            "55\n",
            "56\n",
            "57\n",
            "58\n",
            "59\n",
            "60\n",
            "61\n"
          ]
        }
      ]
    },
    {
      "cell_type": "code",
      "source": [
        "len(coord)"
      ],
      "metadata": {
        "colab": {
          "base_uri": "https://localhost:8080/"
        },
        "id": "595pA4Yz0lye",
        "outputId": "361079b3-a3d0-4f3e-8480-9eebe21cf194"
      },
      "execution_count": null,
      "outputs": [
        {
          "output_type": "execute_result",
          "data": {
            "text/plain": [
              "91"
            ]
          },
          "metadata": {},
          "execution_count": 54
        }
      ]
    },
    {
      "cell_type": "code",
      "source": [
        "target = coordinates['Delhi']\n",
        "\n",
        "res = []\n",
        "\n",
        "for loc in coord:\n",
        "  dist = manhattan_distances([target], [loc[1]])\n",
        "\n",
        "  if dist < 5:\n",
        "    if loc[0] not in res:\n",
        "      res.append(loc[0])"
      ],
      "metadata": {
        "id": "EXHsZ6ZYNG8s"
      },
      "execution_count": null,
      "outputs": []
    },
    {
      "cell_type": "code",
      "source": [
        "for r in res:\n",
        "  print(r)\n",
        "  print()"
      ],
      "metadata": {
        "colab": {
          "base_uri": "https://localhost:8080/"
        },
        "id": "Z7S6mdwG1SqZ",
        "outputId": "4fa9818d-ac2e-42b5-9695-e51400b50e47"
      },
      "execution_count": null,
      "outputs": [
        {
          "output_type": "stream",
          "name": "stdout",
          "text": [
            "In the early monsoon season of 2023, Delhi experienced one of the most severe floods in recent history. Heavy rainfall, starting in late June and continuing for almost a week, led to the overflowing of the Yamuna River, which breached its banks and inundated vast areas of the city. The relentless downpour resulted in accumulated water levels that quickly overwhelmed the drainage systems, causing widespread flooding in numerous parts of the city.\n",
            "\n",
            "Residential neighborhoods such as Mayur Vihar, Okhla, and parts of East Delhi were particularly hard-hit, with homes and apartment complexes submerged under several feet of water. The historic areas around Chandni Chowk and Connaught Place also saw significant water accumulation, affecting businesses and leading to substantial economic losses.\n",
            "\n",
            "Gurgaon, situated just southwest of Delhi, also faced the brunt of the torrential rains. Although the city was not as severely affected as Delhi, several areas in Gurgaon experienced significant waterlogging, creating a challenging situation for residents and businesses alike. The urban infrastructure, characterized by numerous high-rise buildings and sprawling commercial complexes, struggled to cope with the sudden deluge.\n",
            "\n",
            "Many offices in the commercial hubs of Cyber City and Udyog Vihar had to shut down temporarily due to the waterlogging. Employees found it difficult to reach their workplaces, with major roads such as Golf Course Road, MG Road, and Sohna Road being submerged under several feet of water. Traffic came to a standstill, and several underpasses were completely flooded, making them impassable. Public transport services, including buses and auto-rickshaws, were severely affected, and commuters were left stranded for hours.\n",
            "\n",
            "The heavy rains also impacted the connectivity between Gurgaon and Delhi. The Delhi-Gurgaon Expressway, a vital artery for daily commuters, experienced severe traffic jams as vehicles moved at a snail's pace through the waterlogged sections. This not only affected the daily commute of thousands but also disrupted the supply chains, as goods could not be transported efficiently.\n",
            "\n",
            "In addition to the inundation in central Delhi, the low-lying areas near the Yamuna River were particularly hard-hit. The relentless downpour caused the Yamuna to swell beyond its banks, flooding nearby neighborhoods such as Yamuna Vihar, Usmanpur, and Geeta Colony. These communities, situated in the floodplains, bore the brunt of the rising waters, which inundated homes, streets, and public spaces.\n",
            "\n",
            "The response to the flooding in the low-lying areas near the Yamuna River highlighted the importance of community resilience and preparedness. Local residents, despite facing their own challenges, came together to support one another, sharing resources and offering assistance wherever possible. The coordinated efforts of government agencies, NGOs, and volunteers played a crucial role in mitigating the impact of the disaster and providing much-needed relief to those affected.\n",
            "\n",
            "Mumbai, located to the southeast of Delhi, was not spared from the impact of the floods either. The city, known for its rapidly developing infrastructure and residential projects, saw several sectors submerged under water. The heavy rainfall overwhelmed the city's drainage systems, leading to extensive waterlogging in various parts of the city. Residential areas such as Sector 15, Sector 18, and Sector 62 were among the worst affected, with floodwaters entering homes, apartment complexes, and commercial buildings.\n",
            "\n",
            "The city's key roads and highways, including the Mumbai-Greater Mumbai Expressway and the DND Flyway, were rendered impassable, causing significant disruptions in daily commutes and logistics. These major thoroughfares are vital for connecting Mumbai to Delhi and other neighboring regions, and their flooding had a cascading effect on the entire region's transportation network. Vehicles were stranded on submerged roads, leading to massive traffic jams and delays. Public transportation services, including buses and auto-rickshaws, were severely disrupted, leaving commuters with limited options for travel.\n",
            "\n",
            "The response to the flooding in Delhi involved multiple agencies working in close coordination to mitigate the impact of the disaster and assist the affected population. The National Disaster Response Force (NDRF) played a pivotal role in the rescue operations, deploying several teams across the city to address the emergency situation.\n",
            "\n",
            "The NDRF, equipped with specialized training and equipment for handling natural disasters, was quick to mobilize. Several teams were deployed to the most affected areas, including low-lying neighborhoods near the Yamuna River and parts of central Delhi. These teams were tasked with conducting rescue operations, providing medical assistance, and coordinating relief efforts with local authorities.\n",
            "\n",
            "The NDRF's efforts were complemented by the coordinated actions of local authorities, including the Delhi government, municipal corporations, and police forces. These agencies worked together to identify the most affected areas and prioritize rescue operations. The police and municipal workers assisted in crowd control, traffic management, and providing logistical support to the NDRF teams.\n",
            "\n",
            "The response to the flooding in Delhi highlighted the resilience of the community and the effectiveness of coordinated disaster management efforts. The experience underscored the need for improved infrastructure, better urban planning, and enhanced early warning systems to prevent and manage future floods. Training programs and drills for disaster preparedness were identified as essential measures to build a more resilient community capable of responding effectively to natural disasters.\n",
            "\n",
            "Gurgaon Response and Restoration Efforts\n",
            "\n",
            "In Gurgaon, the local government prioritized pumping out water from the worst-affected areas to restore normalcy as quickly as possible. High-capacity water pumps were deployed to drain flooded streets, residential complexes, and commercial areas. Teams of municipal workers and engineers worked around the clock to expedite this process, focusing initially on critical areas such as hospitals, emergency services, and major thoroughfares to ensure that essential services remained operational.\n",
            "\n",
            "The business community in Gurgaon played a significant role in supporting relief operations. Several companies, recognizing the severity of the situation, donated funds and resources to aid the affected population. Corporate offices organized donation drives, collecting essential items such as clothes, food, and medicines. Many companies also offered their employees the option to volunteer during work hours to assist with relief efforts. Additionally, some businesses provided temporary shelter and financial assistance to their employees who were affected by the floods.\n",
            "\n",
            "Overall, the coordinated efforts of the local government, business community, and residents in Gurgaon and Mumbai showcased the strength and resilience of these communities in the face of natural disasters. The proactive measures taken in the aftermath of the floods aimed to not only address immediate needs but also to build a more resilient infrastructure capable of withstanding future challenges.\n",
            "\n"
          ]
        }
      ]
    },
    {
      "cell_type": "code",
      "source": [
        "def get_coordinates(query):\n",
        "  url = f\"https://api.geoapify.com/v1/geocode/search?text={query}&lang=en&limit=3&filter=countrycode:in&format=json&apiKey={api_key}\"\n",
        "\n",
        "  headers = CaseInsensitiveDict()\n",
        "  headers[\"Accept\"] = \"application/json\"\n",
        "\n",
        "  resp = requests.get(url, headers=headers)\n",
        "\n",
        "  return resp.json()['results']\n",
        "\n",
        "coord = []\n",
        "res = []\n",
        "\n",
        "for query in data:\n",
        "  doc = ner(query)\n",
        "  for ent in doc.ents:\n",
        "    if ent.label_ == \"GPE\" or ent.label_ == \"LOC\":\n",
        "      res = get_coordinates(ent.text)\n",
        "      for r in res:\n",
        "        arr = [r['lon'], r['lat']]\n",
        "        coord.append([query, arr])\n",
        "\n",
        "target = coordinates['Delhi']\n",
        "\n",
        "\n",
        "for loc in coord:\n",
        "  dist = manhattan_distances([target], [loc[1]])\n",
        "\n",
        "  if dist < 5:\n",
        "    if loc[0] not in res:\n",
        "      res.append(loc[0])"
      ],
      "metadata": {
        "id": "KIL7UarqOo7Z"
      },
      "execution_count": null,
      "outputs": []
    }
  ]
}